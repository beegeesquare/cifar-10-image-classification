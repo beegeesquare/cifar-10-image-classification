{
 "cells": [
  {
   "cell_type": "markdown",
   "metadata": {
    "collapsed": true,
    "deletable": true,
    "editable": true
   },
   "source": [
    "# Image Classification\n",
    "In this project, you'll classify images from the [CIFAR-10 dataset](https://www.cs.toronto.edu/~kriz/cifar.html).  The dataset consists of airplanes, dogs, cats, and other objects. You'll preprocess the images, then train a convolutional neural network on all the samples. The images need to be normalized and the labels need to be one-hot encoded.  You'll get to apply what you learned and build a convolutional, max pooling, dropout, and fully connected layers.  At the end, you'll get to see your neural network's predictions on the sample images.\n",
    "## Get the Data\n",
    "Run the following cell to download the [CIFAR-10 dataset for python](https://www.cs.toronto.edu/~kriz/cifar-10-python.tar.gz)."
   ]
  },
  {
   "cell_type": "code",
   "execution_count": 2,
   "metadata": {
    "collapsed": false,
    "deletable": true,
    "editable": true
   },
   "outputs": [
    {
     "name": "stdout",
     "output_type": "stream",
     "text": [
      "All files found!\n"
     ]
    }
   ],
   "source": [
    "\"\"\"\n",
    "DON'T MODIFY ANYTHING IN THIS CELL THAT IS BELOW THIS LINE\n",
    "\"\"\"\n",
    "from urllib.request import urlretrieve\n",
    "from os.path import isfile, isdir\n",
    "from tqdm import tqdm\n",
    "import problem_unittests as tests\n",
    "import tarfile\n",
    "\n",
    "cifar10_dataset_folder_path = 'cifar-10-batches-py'\n",
    "\n",
    "# Use Floyd's cifar-10 dataset if present\n",
    "floyd_cifar10_location = '/input/cifar-10/python.tar.gz'\n",
    "if isfile(floyd_cifar10_location):\n",
    "    tar_gz_path = floyd_cifar10_location\n",
    "else:\n",
    "    tar_gz_path = 'cifar-10-python.tar.gz'\n",
    "\n",
    "class DLProgress(tqdm):\n",
    "    last_block = 0\n",
    "\n",
    "    def hook(self, block_num=1, block_size=1, total_size=None):\n",
    "        self.total = total_size\n",
    "        self.update((block_num - self.last_block) * block_size)\n",
    "        self.last_block = block_num\n",
    "\n",
    "if not isfile(tar_gz_path):\n",
    "    with DLProgress(unit='B', unit_scale=True, miniters=1, desc='CIFAR-10 Dataset') as pbar:\n",
    "        urlretrieve(\n",
    "            'https://www.cs.toronto.edu/~kriz/cifar-10-python.tar.gz',\n",
    "            tar_gz_path,\n",
    "            pbar.hook)\n",
    "\n",
    "if not isdir(cifar10_dataset_folder_path):\n",
    "    with tarfile.open(tar_gz_path) as tar:\n",
    "        tar.extractall()\n",
    "        tar.close()\n",
    "\n",
    "\n",
    "tests.test_folder_path(cifar10_dataset_folder_path)"
   ]
  },
  {
   "cell_type": "markdown",
   "metadata": {
    "deletable": true,
    "editable": true
   },
   "source": [
    "## Explore the Data\n",
    "The dataset is broken into batches to prevent your machine from running out of memory.  The CIFAR-10 dataset consists of 5 batches, named `data_batch_1`, `data_batch_2`, etc.. Each batch contains the labels and images that are one of the following:\n",
    "* airplane\n",
    "* automobile\n",
    "* bird\n",
    "* cat\n",
    "* deer\n",
    "* dog\n",
    "* frog\n",
    "* horse\n",
    "* ship\n",
    "* truck\n",
    "\n",
    "Understanding a dataset is part of making predictions on the data.  Play around with the code cell below by changing the `batch_id` and `sample_id`. The `batch_id` is the id for a batch (1-5). The `sample_id` is the id for a image and label pair in the batch.\n",
    "\n",
    "Ask yourself \"What are all possible labels?\", \"What is the range of values for the image data?\", \"Are the labels in order or random?\".  Answers to questions like these will help you preprocess the data and end up with better predictions."
   ]
  },
  {
   "cell_type": "code",
   "execution_count": 3,
   "metadata": {
    "collapsed": false,
    "deletable": true,
    "editable": true
   },
   "outputs": [
    {
     "name": "stdout",
     "output_type": "stream",
     "text": [
      "\n",
      "Stats of batch 1:\n",
      "Samples: 10000\n",
      "Label Counts: {0: 1005, 1: 974, 2: 1032, 3: 1016, 4: 999, 5: 937, 6: 1030, 7: 1001, 8: 1025, 9: 981}\n",
      "First 20 Labels: [6, 9, 9, 4, 1, 1, 2, 7, 8, 3, 4, 7, 7, 2, 9, 9, 9, 3, 2, 6]\n",
      "\n",
      "Example of Image 5:\n",
      "Image - Min Value: 0 Max Value: 252\n",
      "Image - Shape: (32, 32, 3)\n",
      "Label - Label Id: 1 Name: automobile\n"
     ]
    },
    {
     "data": {
      "image/png": "[encoded data removed]",
      "text/plain": [
       "<matplotlib.figure.Figure at 0x7f38bf506630>"
      ]
     },
     "metadata": {
      "image/png": {
       "height": 250,
       "width": 253
      }
     },
     "output_type": "display_data"
    }
   ],
   "source": [
    "%matplotlib inline\n",
    "%config InlineBackend.figure_format = 'retina'\n",
    "\n",
    "import helper\n",
    "import numpy as np\n",
    "\n",
    "# Explore the dataset\n",
    "batch_id = 1\n",
    "sample_id = 5\n",
    "helper.display_stats(cifar10_dataset_folder_path, batch_id, sample_id)"
   ]
  },
  {
   "cell_type": "markdown",
   "metadata": {
    "deletable": true,
    "editable": true
   },
   "source": [
    "## Implement Preprocess Functions\n",
    "### Normalize\n",
    "In the cell below, implement the `normalize` function to take in image data, `x`, and return it as a normalized Numpy array. The values should be in the range of 0 to 1, inclusive.  The return object should be the same shape as `x`."
   ]
  },
  {
   "cell_type": "code",
   "execution_count": 4,
   "metadata": {
    "collapsed": false,
    "deletable": true,
    "editable": true
   },
   "outputs": [
    {
     "name": "stdout",
     "output_type": "stream",
     "text": [
      "Tests Passed\n"
     ]
    }
   ],
   "source": [
    "def normalize(x):\n",
    "    \"\"\"\n",
    "    Normalize a list of sample image data in the range of 0 to 1\n",
    "    : x: List of image data.  The image shape is (32, 32, 3)\n",
    "    : return: Numpy array of normalize data\n",
    "    \"\"\"\n",
    "    # TODO: Implement Function\n",
    "    # values in the array can range for 0-255\n",
    "    # We can use min-max scaler\n",
    "    \n",
    "    x_normalized = (x - x.min(axis=0))*1./(x.max(axis=0) - x.min(axis=0))\n",
    "    \n",
    "    return x_normalized\n",
    "\n",
    "\n",
    "\"\"\"\n",
    "DON'T MODIFY ANYTHING IN THIS CELL THAT IS BELOW THIS LINE\n",
    "\"\"\"\n",
    "tests.test_normalize(normalize)"
   ]
  },
  {
   "cell_type": "markdown",
   "metadata": {
    "deletable": true,
    "editable": true
   },
   "source": [
    "### One-hot encode\n",
    "Just like the previous code cell, you'll be implementing a function for preprocessing.  This time, you'll implement the `one_hot_encode` function. The input, `x`, are a list of labels.  Implement the function to return the list of labels as One-Hot encoded Numpy array.  The possible values for labels are 0 to 9. The one-hot encoding function should return the same encoding for each value between each call to `one_hot_encode`.  Make sure to save the map of encodings outside the function.\n",
    "\n",
    "Hint: Don't reinvent the wheel."
   ]
  },
  {
   "cell_type": "code",
   "execution_count": 5,
   "metadata": {
    "collapsed": false,
    "deletable": true,
    "editable": true
   },
   "outputs": [
    {
     "name": "stdout",
     "output_type": "stream",
     "text": [
      "Tests Passed\n"
     ]
    }
   ],
   "source": [
    "# Import one-hot encoding from sklearn\n",
    "from sklearn.preprocessing import OneHotEncoder\n",
    "def one_hot_encode(x):\n",
    "    \"\"\"\n",
    "    One hot encode a list of sample labels. Return a one-hot encoded vector for each label.\n",
    "    : x: List of sample Labels\n",
    "    : return: Numpy array of one-hot encoded labels\n",
    "    \"\"\"\n",
    "    # TODO: Implement Function\n",
    "    # Here we can use the sklearn feature for the one-hot encoding\n",
    "    \n",
    "    \n",
    "    x = np.atleast_1d(x) # Convert the list to an 1d array for one-hot encoding to work\n",
    "    \n",
    "    number_labels = 10\n",
    "    # Use below code for using one-hot encoding without sklearn\n",
    "    # x = x.astype(int) # Make sure labels are integer type\n",
    "    # encoded_array = np.zeros((len(x),number_labels))\n",
    "    # encoded_array[np.arange(x.shape[0]), x] = 1 # For every row in the encoded array, keep 1 in the column where there is x\n",
    "   \n",
    "    # Creates an object, and resulting matrix is NOT sparse matrix. \n",
    "    x = np.reshape(x, (x.shape[0], 1)) # This reshape is necessary, so the one hot encoder can work and give a matrix in the required form\n",
    "    encoder = OneHotEncoder(n_values=number_labels, sparse=False) \n",
    "    encoded_array = encoder.fit_transform(x)\n",
    "            \n",
    "    return encoded_array\n",
    "\n",
    "\n",
    "\"\"\"\n",
    "DON'T MODIFY ANYTHING IN THIS CELL THAT IS BELOW THIS LINE\n",
    "\"\"\"\n",
    "tests.test_one_hot_encode(one_hot_encode)"
   ]
  },
  {
   "cell_type": "markdown",
   "metadata": {
    "deletable": true,
    "editable": true
   },
   "source": [
    "### Randomize Data\n",
    "As you saw from exploring the data above, the order of the samples are randomized.  It doesn't hurt to randomize it again, but you don't need to for this dataset."
   ]
  },
  {
   "cell_type": "markdown",
   "metadata": {
    "deletable": true,
    "editable": true
   },
   "source": [
    "## Preprocess all the data and save it\n",
    "Running the code cell below will preprocess all the CIFAR-10 data and save it to file. The code below also uses 10% of the training data for validation."
   ]
  },
  {
   "cell_type": "code",
   "execution_count": 6,
   "metadata": {
    "collapsed": true,
    "deletable": true,
    "editable": true
   },
   "outputs": [],
   "source": [
    "\"\"\"\n",
    "DON'T MODIFY ANYTHING IN THIS CELL\n",
    "\"\"\"\n",
    "# Preprocess Training, Validation, and Testing Data\n",
    "helper.preprocess_and_save_data(cifar10_dataset_folder_path, normalize, one_hot_encode)"
   ]
  },
  {
   "cell_type": "markdown",
   "metadata": {
    "deletable": true,
    "editable": true
   },
   "source": [
    "# Check Point\n",
    "This is your first checkpoint.  If you ever decide to come back to this notebook or have to restart the notebook, you can start from here.  The preprocessed data has been saved to disk."
   ]
  },
  {
   "cell_type": "code",
   "execution_count": 7,
   "metadata": {
    "collapsed": true,
    "deletable": true,
    "editable": true
   },
   "outputs": [],
   "source": [
    "\"\"\"\n",
    "DON'T MODIFY ANYTHING IN THIS CELL\n",
    "\"\"\"\n",
    "import pickle\n",
    "import problem_unittests as tests\n",
    "import helper\n",
    "\n",
    "# Load the Preprocessed Validation data\n",
    "valid_features, valid_labels = pickle.load(open('preprocess_validation.p', mode='rb'))"
   ]
  },
  {
   "cell_type": "markdown",
   "metadata": {
    "deletable": true,
    "editable": true
   },
   "source": [
    "## Build the network\n",
    "For the neural network, you'll build each layer into a function.  Most of the code you've seen has been outside of functions. To test your code more thoroughly, we require that you put each layer in a function.  This allows us to give you better feedback and test for simple mistakes using our unittests before you submit your project.\n",
    "\n",
    ">**Note:** If you're finding it hard to dedicate enough time for this course each week, we've provided a small shortcut to this part of the project. In the next couple of problems, you'll have the option to use classes from the [TensorFlow Layers](https://www.tensorflow.org/api_docs/python/tf/layers) or [TensorFlow Layers (contrib)](https://www.tensorflow.org/api_guides/python/contrib.layers) packages to build each layer, except the layers you build in the \"Convolutional and Max Pooling Layer\" section.  TF Layers is similar to Keras's and TFLearn's abstraction to layers, so it's easy to pickup.\n",
    "\n",
    ">However, if you would like to get the most out of this course, try to solve all the problems _without_ using anything from the TF Layers packages. You **can** still use classes from other packages that happen to have the same name as ones you find in TF Layers! For example, instead of using the TF Layers version of the `conv2d` class, [tf.layers.conv2d](https://www.tensorflow.org/api_docs/python/tf/layers/conv2d), you would want to use the TF Neural Network version of `conv2d`, [tf.nn.conv2d](https://www.tensorflow.org/api_docs/python/tf/nn/conv2d). \n",
    "\n",
    "Let's begin!\n",
    "\n",
    "### Input\n",
    "The neural network needs to read the image data, one-hot encoded labels, and dropout keep probability. Implement the following functions\n",
    "* Implement `neural_net_image_input`\n",
    " * Return a [TF Placeholder](https://www.tensorflow.org/api_docs/python/tf/placeholder)\n",
    " * Set the shape using `image_shape` with batch size set to `None`.\n",
    " * Name the TensorFlow placeholder \"x\" using the TensorFlow `name` parameter in the [TF Placeholder](https://www.tensorflow.org/api_docs/python/tf/placeholder).\n",
    "* Implement `neural_net_label_input`\n",
    " * Return a [TF Placeholder](https://www.tensorflow.org/api_docs/python/tf/placeholder)\n",
    " * Set the shape using `n_classes` with batch size set to `None`.\n",
    " * Name the TensorFlow placeholder \"y\" using the TensorFlow `name` parameter in the [TF Placeholder](https://www.tensorflow.org/api_docs/python/tf/placeholder).\n",
    "* Implement `neural_net_keep_prob_input`\n",
    " * Return a [TF Placeholder](https://www.tensorflow.org/api_docs/python/tf/placeholder) for dropout keep probability.\n",
    " * Name the TensorFlow placeholder \"keep_prob\" using the TensorFlow `name` parameter in the [TF Placeholder](https://www.tensorflow.org/api_docs/python/tf/placeholder).\n",
    "\n",
    "These names will be used at the end of the project to load your saved model.\n",
    "\n",
    "Note: `None` for shapes in TensorFlow allow for a dynamic size."
   ]
  },
  {
   "cell_type": "code",
   "execution_count": 8,
   "metadata": {
    "collapsed": false,
    "deletable": true,
    "editable": true
   },
   "outputs": [
    {
     "name": "stdout",
     "output_type": "stream",
     "text": [
      "Image Input Tests Passed.\n",
      "Label Input Tests Passed.\n",
      "Keep Prob Tests Passed.\n"
     ]
    }
   ],
   "source": [
    "import tensorflow as tf\n",
    "\n",
    "def neural_net_image_input(image_shape):\n",
    "    \"\"\"\n",
    "    Return a Tensor for a batch of image input\n",
    "    : image_shape: Shape of the images\n",
    "    : return: Tensor for image input.\n",
    "    \"\"\"\n",
    "    # TODO: Implement Function\n",
    "    # Image shape is three tuple, with height, width, channels\n",
    "    return tf.placeholder(tf.float32, shape=(None, image_shape[0], image_shape[1], image_shape[2]), name='x')\n",
    "\n",
    "\n",
    "def neural_net_label_input(n_classes):\n",
    "    \"\"\"\n",
    "    Return a Tensor for a batch of label input\n",
    "    : n_classes: Number of classes\n",
    "    : return: Tensor for label input.\n",
    "    \"\"\"\n",
    "    # TODO: Implement Function\n",
    "    \n",
    "    return tf.placeholder(tf.float32, shape=(None, n_classes), name='y')\n",
    "\n",
    "\n",
    "def neural_net_keep_prob_input():\n",
    "    \"\"\"\n",
    "    Return a Tensor for keep probability\n",
    "    : return: Tensor for keep probability.\n",
    "    \"\"\"\n",
    "    # TODO: Implement Function\n",
    "    return tf.placeholder(tf.float32, name='keep_prob') # This is just a value, say 0.5, so no shape\n",
    "\n",
    "\n",
    "\"\"\"\n",
    "DON'T MODIFY ANYTHING IN THIS CELL THAT IS BELOW THIS LINE\n",
    "\"\"\"\n",
    "tf.reset_default_graph()\n",
    "tests.test_nn_image_inputs(neural_net_image_input)\n",
    "tests.test_nn_label_inputs(neural_net_label_input)\n",
    "tests.test_nn_keep_prob_inputs(neural_net_keep_prob_input)"
   ]
  },
  {
   "cell_type": "markdown",
   "metadata": {
    "deletable": true,
    "editable": true
   },
   "source": [
    "### Convolution and Max Pooling Layer\n",
    "Convolution layers have a lot of success with images. For this code cell, you should implement the function `conv2d_maxpool` to apply convolution then max pooling:\n",
    "* Create the weight and bias using `conv_ksize`, `conv_num_outputs` and the shape of `x_tensor`.\n",
    "* Apply a convolution to `x_tensor` using weight and `conv_strides`.\n",
    " * We recommend you use same padding, but you're welcome to use any padding.\n",
    "* Add bias\n",
    "* Add a nonlinear activation to the convolution.\n",
    "* Apply Max Pooling using `pool_ksize` and `pool_strides`.\n",
    " * We recommend you use same padding, but you're welcome to use any padding.\n",
    "\n",
    "**Note:** You **can't** use [TensorFlow Layers](https://www.tensorflow.org/api_docs/python/tf/layers) or [TensorFlow Layers (contrib)](https://www.tensorflow.org/api_guides/python/contrib.layers) for **this** layer, but you can still use TensorFlow's [Neural Network](https://www.tensorflow.org/api_docs/python/tf/nn) package. You may still use the shortcut option for all the **other** layers."
   ]
  },
  {
   "cell_type": "code",
   "execution_count": 9,
   "metadata": {
    "collapsed": false,
    "deletable": true,
    "editable": true
   },
   "outputs": [
    {
     "name": "stdout",
     "output_type": "stream",
     "text": [
      "Tests Passed\n"
     ]
    }
   ],
   "source": [
    "def conv2d_maxpool(x_tensor, conv_num_outputs, conv_ksize, conv_strides, pool_ksize, pool_strides):\n",
    "    \"\"\"\n",
    "    Apply convolution then max pooling to x_tensor\n",
    "    :param x_tensor: TensorFlow Tensor\n",
    "    :param conv_num_outputs: Number of outputs for the convolutional layer\n",
    "    :param conv_ksize: kernal size 2-D Tuple for the convolutional layer\n",
    "    :param conv_strides: Stride 2-D Tuple for convolution\n",
    "    :param pool_ksize: kernal size 2-D Tuple for pool\n",
    "    :param pool_strides: Stride 2-D Tuple for pool\n",
    "    : return: A tensor that represents convolution and max pooling of x_tensor\n",
    "    \"\"\"\n",
    "    # TODO: Implement Function\n",
    "    # First take the x_tensor and do the convolution based on the conv_num_outputs, conv_ksize, conv_strides\n",
    "    number_of_channels = int(x_tensor.shape[3]) # x_tensor has shape (None, height, width, channels)\n",
    "    # Create filter weights with shape from the conv_ksize (kernel size) and conv_num_outputs\n",
    "    # stddev values can be 0.01, 0.05 (can be experimented)\n",
    "    filter_weights = tf.Variable(tf.truncated_normal(shape=[conv_ksize[0], conv_ksize[1],\n",
    "                                                            number_of_channels, conv_num_outputs], stddev=0.05\n",
    "                                                    )\n",
    "                                )\n",
    "    conv = tf.nn.conv2d(x_tensor, filter_weights, strides=[1, conv_strides[0], conv_strides[1], 1], padding='SAME')\n",
    "    \n",
    "    # Now add the bias units\n",
    "    bias = tf.Variable(tf.random_normal([conv_num_outputs]))\n",
    "    conv = tf.nn.bias_add(conv, bias)\n",
    "    # Now pass it to the rectified linear unit\n",
    "    conv = tf.nn.relu(conv)\n",
    "    \n",
    "    # Now apply the max-pooling\n",
    "    conv_max_pool = tf.nn.max_pool(conv, ksize=[1, pool_ksize[0], pool_ksize[1], 1],\n",
    "                                  strides=[1, pool_strides[0], pool_strides[1], 1],\n",
    "                                  padding='SAME')\n",
    "    # print (conv_max_pool)\n",
    "    return conv_max_pool\n",
    "\n",
    "\n",
    "\"\"\"\n",
    "DON'T MODIFY ANYTHING IN THIS CELL THAT IS BELOW THIS LINE\n",
    "\"\"\"\n",
    "tests.test_con_pool(conv2d_maxpool)"
   ]
  },
  {
   "cell_type": "markdown",
   "metadata": {
    "deletable": true,
    "editable": true
   },
   "source": [
    "### Flatten Layer\n",
    "Implement the `flatten` function to change the dimension of `x_tensor` from a 4-D tensor to a 2-D tensor.  The output should be the shape (*Batch Size*, *Flattened Image Size*). Shortcut option: you can use classes from the [TensorFlow Layers](https://www.tensorflow.org/api_docs/python/tf/layers) or [TensorFlow Layers (contrib)](https://www.tensorflow.org/api_guides/python/contrib.layers) packages for this layer. For more of a challenge, only use other TensorFlow packages."
   ]
  },
  {
   "cell_type": "code",
   "execution_count": 10,
   "metadata": {
    "collapsed": false,
    "deletable": true,
    "editable": true
   },
   "outputs": [
    {
     "name": "stdout",
     "output_type": "stream",
     "text": [
      "Tests Passed\n"
     ]
    }
   ],
   "source": [
    "def flatten(x_tensor):\n",
    "    \"\"\"\n",
    "    Flatten x_tensor to (Batch Size, Flattened Image Size)\n",
    "    : x_tensor: A tensor of size (Batch Size, ...), where ... are the image dimensions.\n",
    "    : return: A tensor of size (Batch Size, Flattened Image Size).\n",
    "    \"\"\"\n",
    "    # TODO: Implement Function\n",
    "    flattened_image_size = int(x_tensor.shape[1])*int(x_tensor.shape[2])*int(x_tensor.shape[3])\n",
    "    # The -1 in the last line means the whole column no matter what the batchsize is in the runtime. \n",
    "    # Ref: http://stackoverflow.com/questions/36668542/flatten-batch-in-tensorflow\n",
    "    x_tensor = tf.reshape(x_tensor, shape=[-1, flattened_image_size])\n",
    "    \n",
    "    return x_tensor\n",
    "\n",
    "\n",
    "\"\"\"\n",
    "DON'T MODIFY ANYTHING IN THIS CELL THAT IS BELOW THIS LINE\n",
    "\"\"\"\n",
    "tests.test_flatten(flatten)"
   ]
  },
  {
   "cell_type": "markdown",
   "metadata": {
    "deletable": true,
    "editable": true
   },
   "source": [
    "### Fully-Connected Layer\n",
    "Implement the `fully_conn` function to apply a fully connected layer to `x_tensor` with the shape (*Batch Size*, *num_outputs*). Shortcut option: you can use classes from the [TensorFlow Layers](https://www.tensorflow.org/api_docs/python/tf/layers) or [TensorFlow Layers (contrib)](https://www.tensorflow.org/api_guides/python/contrib.layers) packages for this layer. For more of a challenge, only use other TensorFlow packages."
   ]
  },
  {
   "cell_type": "code",
   "execution_count": 11,
   "metadata": {
    "collapsed": false,
    "deletable": true,
    "editable": true
   },
   "outputs": [
    {
     "name": "stdout",
     "output_type": "stream",
     "text": [
      "Tests Passed\n"
     ]
    }
   ],
   "source": [
    "def fully_conn(x_tensor, num_outputs):\n",
    "    \"\"\"\n",
    "    Apply a fully connected layer to x_tensor using weight and bias\n",
    "    : x_tensor: A 2-D tensor where the first dimension is batch size.\n",
    "    : num_outputs: The number of output that the new tensor should be.\n",
    "    : return: A 2-D tensor where the second dimension is num_outputs.\n",
    "    \"\"\"\n",
    "    # TODO: Implement Function\n",
    "    # This is just like our basic neural-network with one-layer (or no-hidden layer)\n",
    "    # Initialize the weight layer\n",
    "    \n",
    "    weights = tf.Variable(tf.truncated_normal(shape=[int(x_tensor.shape[1]), num_outputs],\n",
    "                                             stddev = 1./num_outputs**0.5)) \n",
    "    biases = tf.Variable(tf.random_normal([num_outputs]))\n",
    "    signals = tf.add(tf.matmul(x_tensor, weights), biases) # Here we are not using add_bias, since there is no depth here\n",
    "    # Pass this to the activation unit\n",
    "    output = tf.nn.relu(signals)\n",
    "    \n",
    "    return output\n",
    "\n",
    "\n",
    "\"\"\"\n",
    "DON'T MODIFY ANYTHING IN THIS CELL THAT IS BELOW THIS LINE\n",
    "\"\"\"\n",
    "tests.test_fully_conn(fully_conn)"
   ]
  },
  {
   "cell_type": "markdown",
   "metadata": {
    "deletable": true,
    "editable": true
   },
   "source": [
    "### Output Layer\n",
    "Implement the `output` function to apply a fully connected layer to `x_tensor` with the shape (*Batch Size*, *num_outputs*). Shortcut option: you can use classes from the [TensorFlow Layers](https://www.tensorflow.org/api_docs/python/tf/layers) or [TensorFlow Layers (contrib)](https://www.tensorflow.org/api_guides/python/contrib.layers) packages for this layer. For more of a challenge, only use other TensorFlow packages.\n",
    "\n",
    "**Note:** Activation, softmax, or cross entropy should **not** be applied to this."
   ]
  },
  {
   "cell_type": "code",
   "execution_count": 12,
   "metadata": {
    "collapsed": false,
    "deletable": true,
    "editable": true
   },
   "outputs": [
    {
     "name": "stdout",
     "output_type": "stream",
     "text": [
      "Tests Passed\n"
     ]
    }
   ],
   "source": [
    "def output(x_tensor, num_outputs):\n",
    "    \"\"\"\n",
    "    Apply a output layer to x_tensor using weight and bias\n",
    "    : x_tensor: A 2-D tensor where the first dimension is batch size.\n",
    "    : num_outputs: The number of output that the new tensor should be.\n",
    "    : return: A 2-D tensor where the second dimension is num_outputs.\n",
    "    \"\"\"\n",
    "    # TODO: Implement Function\n",
    "    # This is same as fully connected network, but without activation function\n",
    "    weights = tf.Variable(tf.truncated_normal(shape=[int(x_tensor.shape[1]), num_outputs],\n",
    "                                             stddev = 1./num_outputs**0.5)) \n",
    "    biases = tf.Variable(tf.random_normal([num_outputs]))\n",
    "    signals = tf.add(tf.matmul(x_tensor, weights), biases)\n",
    "    \n",
    "    return signals\n",
    "\n",
    "\n",
    "\"\"\"\n",
    "DON'T MODIFY ANYTHING IN THIS CELL THAT IS BELOW THIS LINE\n",
    "\"\"\"\n",
    "tests.test_output(output)"
   ]
  },
  {
   "cell_type": "markdown",
   "metadata": {
    "deletable": true,
    "editable": true
   },
   "source": [
    "### Create Convolutional Model\n",
    "Implement the function `conv_net` to create a convolutional neural network model. The function takes in a batch of images, `x`, and outputs logits.  Use the layers you created above to create this model:\n",
    "\n",
    "* Apply 1, 2, or 3 Convolution and Max Pool layers\n",
    "* Apply a Flatten Layer\n",
    "* Apply 1, 2, or 3 Fully Connected Layers\n",
    "* Apply an Output Layer\n",
    "* Return the output\n",
    "* Apply [TensorFlow's Dropout](https://www.tensorflow.org/api_docs/python/tf/nn/dropout) to one or more layers in the model using `keep_prob`. "
   ]
  },
  {
   "cell_type": "code",
   "execution_count": 24,
   "metadata": {
    "collapsed": false,
    "deletable": true,
    "editable": true
   },
   "outputs": [
    {
     "name": "stdout",
     "output_type": "stream",
     "text": [
      "Neural Network Built!\n"
     ]
    }
   ],
   "source": [
    "def conv_net(x, keep_prob):\n",
    "    \"\"\"\n",
    "    Create a convolutional neural network model\n",
    "    : x: Placeholder tensor that holds image data.\n",
    "    : keep_prob: Placeholder tensor that hold dropout keep probability.\n",
    "    : return: Tensor that represents logits\n",
    "    \"\"\"\n",
    "    # TODO: Apply 1, 2, or 3 Convolution and Max Pool layers\n",
    "    #    Play around with different number of outputs, kernel size and stride\n",
    "    # Function Definition from Above:\n",
    "    # First convnet and max_pool layer\n",
    "    \n",
    "    num_outputs = 10\n",
    "    \n",
    "    conv1 = conv2d_maxpool(x, 32, (3, 3), (1, 1), (2, 2), (2, 2))\n",
    "    # print (conv1)\n",
    "    # second convnet\n",
    "    \n",
    "    conv2 = conv2d_maxpool(conv1, 64, (3, 3), (1, 1), (2, 2), (2, 2))\n",
    "    # print (conv2)\n",
    "    \n",
    "    # TODO: Apply a Flatten Layer\n",
    "    # Function Definition from Above:\n",
    "    flattened_output = flatten(conv2)\n",
    "    \n",
    "\n",
    "    # TODO: Apply 1, 2, or 3 Fully Connected Layers\n",
    "    #    Play around with different number of outputs\n",
    "    # Function Definition from Above:\n",
    "    fc1 = fully_conn(flattened_output, 3072)\n",
    "    # Before passing it to the output layer do the drop-out\n",
    "    out = tf.nn.dropout(fc1, keep_prob)\n",
    "    \n",
    "    # TODO: We can also add more fully-connected layers here\n",
    "    fc2 = fully_conn(out, 1024)\n",
    "    out2 = tf.nn.dropout(fc2, keep_prob)\n",
    "    \n",
    "    \n",
    "    # TODO: Apply an Output Layer\n",
    "    #    Set this to the number of classes\n",
    "    # Function Definition from Above:\n",
    "    #final_out = output(out, num_outputs)\n",
    "    final_out = output(out2, num_outputs)\n",
    "    \n",
    "    # TODO: return output\n",
    "    return final_out\n",
    "\n",
    "\n",
    "\"\"\"\n",
    "DON'T MODIFY ANYTHING IN THIS CELL THAT IS BELOW THIS LINE\n",
    "\"\"\"\n",
    "\n",
    "##############################\n",
    "## Build the Neural Network ##\n",
    "##############################\n",
    "\n",
    "# Remove previous weights, bias, inputs, etc..\n",
    "tf.reset_default_graph()\n",
    "\n",
    "# Inputs\n",
    "x = neural_net_image_input((32, 32, 3))\n",
    "y = neural_net_label_input(10)\n",
    "keep_prob = neural_net_keep_prob_input()\n",
    "\n",
    "# Model\n",
    "logits = conv_net(x, keep_prob)\n",
    "\n",
    "# Name logits Tensor, so that is can be loaded from disk after training\n",
    "logits = tf.identity(logits, name='logits')\n",
    "\n",
    "# Loss and Optimizer\n",
    "cost = tf.reduce_mean(tf.nn.softmax_cross_entropy_with_logits(logits=logits, labels=y))\n",
    "optimizer = tf.train.AdamOptimizer().minimize(cost)\n",
    "\n",
    "# Accuracy\n",
    "correct_pred = tf.equal(tf.argmax(logits, 1), tf.argmax(y, 1))\n",
    "accuracy = tf.reduce_mean(tf.cast(correct_pred, tf.float32), name='accuracy')\n",
    "\n",
    "tests.test_conv_net(conv_net)"
   ]
  },
  {
   "cell_type": "markdown",
   "metadata": {
    "deletable": true,
    "editable": true
   },
   "source": [
    "## Train the Neural Network\n",
    "### Single Optimization\n",
    "Implement the function `train_neural_network` to do a single optimization.  The optimization should use `optimizer` to optimize in `session` with a `feed_dict` of the following:\n",
    "* `x` for image input\n",
    "* `y` for labels\n",
    "* `keep_prob` for keep probability for dropout\n",
    "\n",
    "This function will be called for each batch, so `tf.global_variables_initializer()` has already been called.\n",
    "\n",
    "Note: Nothing needs to be returned. This function is only optimizing the neural network."
   ]
  },
  {
   "cell_type": "code",
   "execution_count": 14,
   "metadata": {
    "collapsed": false,
    "deletable": true,
    "editable": true
   },
   "outputs": [
    {
     "name": "stdout",
     "output_type": "stream",
     "text": [
      "Tests Passed\n"
     ]
    }
   ],
   "source": [
    "def train_neural_network(session, optimizer, keep_probability, feature_batch, label_batch):\n",
    "    \"\"\"\n",
    "    Optimize the session on a batch of images and labels\n",
    "    : session: Current TensorFlow session\n",
    "    : optimizer: TensorFlow optimizer function\n",
    "    : keep_probability: keep probability\n",
    "    : feature_batch: Batch of Numpy image data\n",
    "    : label_batch: Batch of Numpy label data\n",
    "    \"\"\"\n",
    "    # TODO: Implement Function\n",
    "    # Remember that optimizer is created before, now we feed data into it. So all the placeholders gets filled up with data\n",
    "    session.run(optimizer, feed_dict={x: feature_batch, y: label_batch, keep_prob: keep_probability})\n",
    "        \n",
    "    pass\n",
    "\n",
    "\n",
    "\"\"\"\n",
    "DON'T MODIFY ANYTHING IN THIS CELL THAT IS BELOW THIS LINE\n",
    "\"\"\"\n",
    "tests.test_train_nn(train_neural_network)"
   ]
  },
  {
   "cell_type": "markdown",
   "metadata": {
    "deletable": true,
    "editable": true
   },
   "source": [
    "### Show Stats\n",
    "Implement the function `print_stats` to print loss and validation accuracy.  Use the global variables `valid_features` and `valid_labels` to calculate validation accuracy.  Use a keep probability of `1.0` to calculate the loss and validation accuracy."
   ]
  },
  {
   "cell_type": "code",
   "execution_count": 19,
   "metadata": {
    "collapsed": true,
    "deletable": true,
    "editable": true
   },
   "outputs": [],
   "source": [
    "import sys\n",
    "def print_stats(session, feature_batch, label_batch, cost, accuracy):\n",
    "    \"\"\"\n",
    "    Print information about loss and validation accuracy\n",
    "    : session: Current TensorFlow session\n",
    "    : feature_batch: Batch of Numpy image data\n",
    "    : label_batch: Batch of Numpy label data\n",
    "    : cost: TensorFlow cost function\n",
    "    : accuracy: TensorFlow accuracy function\n",
    "    \"\"\"\n",
    "    # TODO: Implement Function\n",
    "    loss = session.run(cost, feed_dict={x: feature_batch,  y: label_batch,\n",
    "                                        keep_prob: 1.\n",
    "                                       }\n",
    "                      )\n",
    "    acc = session.run(accuracy, feed_dict={x: valid_features, y: valid_labels,\n",
    "                                          keep_prob:1.\n",
    "                                          }\n",
    "                     )\n",
    "    print(\"Batch Loss= \" + \"{:.6f}\".format(loss) + \", Validation Accuracy= \" + \"{:.5f}\".format(acc))\n",
    "    #sys.stdout.write(\"\\rBatch Loss= \" + \"{:.6f}\".format(loss) + \", Validation Accuracy= \" + \"{:.5f}\".format(acc))\n",
    "    #sys.stdout.flush()\n",
    "    pass"
   ]
  },
  {
   "cell_type": "markdown",
   "metadata": {
    "deletable": true,
    "editable": true
   },
   "source": [
    "### Hyperparameters\n",
    "Tune the following parameters:\n",
    "* Set `epochs` to the number of iterations until the network stops learning or start overfitting\n",
    "* Set `batch_size` to the highest number that your machine has memory for.  Most people set them to common sizes of memory:\n",
    " * 64\n",
    " * 128\n",
    " * 256\n",
    " * ...\n",
    "* Set `keep_probability` to the probability of keeping a node using dropout"
   ]
  },
  {
   "cell_type": "code",
   "execution_count": 21,
   "metadata": {
    "collapsed": true,
    "deletable": true,
    "editable": true
   },
   "outputs": [],
   "source": [
    "# TODO: Tune Parameters\n",
    "epochs = 65 # Are choosen such that models does not overfit\n",
    "batch_size = 128\n",
    "keep_probability = 0.5"
   ]
  },
  {
   "cell_type": "markdown",
   "metadata": {
    "deletable": true,
    "editable": true
   },
   "source": [
    "### Train on a Single CIFAR-10 Batch\n",
    "Instead of training the neural network on all the CIFAR-10 batches of data, let's use a single batch. This should save time while you iterate on the model to get a better accuracy.  Once the final validation accuracy is 50% or greater, run the model on all the data in the next section."
   ]
  },
  {
   "cell_type": "code",
   "execution_count": 22,
   "metadata": {
    "collapsed": false,
    "deletable": true,
    "editable": true
   },
   "outputs": [
    {
     "name": "stdout",
     "output_type": "stream",
     "text": [
      "Checking the Training on a Single Batch...\n",
      "Epoch  1, CIFAR-10 Batch 1:  Batch Loss= 2.630061, Validation Accuracy= 0.09980\n",
      "Epoch  2, CIFAR-10 Batch 1:  Batch Loss= 2.418948, Validation Accuracy= 0.09980\n",
      "Epoch  3, CIFAR-10 Batch 1:  Batch Loss= 2.341188, Validation Accuracy= 0.10120\n",
      "Epoch  4, CIFAR-10 Batch 1:  Batch Loss= 2.294608, Validation Accuracy= 0.11220\n",
      "Epoch  5, CIFAR-10 Batch 1:  Batch Loss= 2.258495, Validation Accuracy= 0.12180\n",
      "Epoch  6, CIFAR-10 Batch 1:  Batch Loss= 2.220773, Validation Accuracy= 0.17260\n",
      "Epoch  7, CIFAR-10 Batch 1:  Batch Loss= 2.225592, Validation Accuracy= 0.19800\n",
      "Epoch  8, CIFAR-10 Batch 1:  Batch Loss= 2.184206, Validation Accuracy= 0.20560\n",
      "Epoch  9, CIFAR-10 Batch 1:  Batch Loss= 2.183528, Validation Accuracy= 0.25980\n",
      "Epoch 10, CIFAR-10 Batch 1:  Batch Loss= 2.204843, Validation Accuracy= 0.23520\n",
      "Epoch 11, CIFAR-10 Batch 1:  Batch Loss= 2.155630, Validation Accuracy= 0.27700\n",
      "Epoch 12, CIFAR-10 Batch 1:  Batch Loss= 2.153702, Validation Accuracy= 0.26760\n",
      "Epoch 13, CIFAR-10 Batch 1:  Batch Loss= 2.157663, Validation Accuracy= 0.28120\n",
      "Epoch 14, CIFAR-10 Batch 1:  Batch Loss= 2.120886, Validation Accuracy= 0.28880\n",
      "Epoch 15, CIFAR-10 Batch 1:  Batch Loss= 2.090450, Validation Accuracy= 0.30420\n",
      "Epoch 16, CIFAR-10 Batch 1:  Batch Loss= 2.085230, Validation Accuracy= 0.31340\n",
      "Epoch 17, CIFAR-10 Batch 1:  Batch Loss= 2.048483, Validation Accuracy= 0.32380\n",
      "Epoch 18, CIFAR-10 Batch 1:  Batch Loss= 2.043242, Validation Accuracy= 0.32600\n",
      "Epoch 19, CIFAR-10 Batch 1:  Batch Loss= 1.998588, Validation Accuracy= 0.36100\n",
      "Epoch 20, CIFAR-10 Batch 1:  Batch Loss= 1.986684, Validation Accuracy= 0.34820\n",
      "Epoch 21, CIFAR-10 Batch 1:  Batch Loss= 1.933960, Validation Accuracy= 0.35280\n",
      "Epoch 22, CIFAR-10 Batch 1:  Batch Loss= 1.943053, Validation Accuracy= 0.35800\n",
      "Epoch 23, CIFAR-10 Batch 1:  Batch Loss= 1.948878, Validation Accuracy= 0.37100\n",
      "Epoch 24, CIFAR-10 Batch 1:  Batch Loss= 1.885488, Validation Accuracy= 0.36720\n",
      "Epoch 25, CIFAR-10 Batch 1:  Batch Loss= 1.844460, Validation Accuracy= 0.38500\n",
      "Epoch 26, CIFAR-10 Batch 1:  Batch Loss= 1.773894, Validation Accuracy= 0.38100\n",
      "Epoch 27, CIFAR-10 Batch 1:  Batch Loss= 1.747328, Validation Accuracy= 0.40240\n",
      "Epoch 28, CIFAR-10 Batch 1:  Batch Loss= 1.758516, Validation Accuracy= 0.40300\n",
      "Epoch 29, CIFAR-10 Batch 1:  Batch Loss= 1.693916, Validation Accuracy= 0.40600\n",
      "Epoch 30, CIFAR-10 Batch 1:  Batch Loss= 1.678424, Validation Accuracy= 0.41200\n",
      "Epoch 31, CIFAR-10 Batch 1:  Batch Loss= 1.598784, Validation Accuracy= 0.42700\n",
      "Epoch 32, CIFAR-10 Batch 1:  Batch Loss= 1.634164, Validation Accuracy= 0.40920\n",
      "Epoch 33, CIFAR-10 Batch 1:  Batch Loss= 1.590679, Validation Accuracy= 0.40900\n",
      "Epoch 34, CIFAR-10 Batch 1:  Batch Loss= 1.526253, Validation Accuracy= 0.42680\n",
      "Epoch 35, CIFAR-10 Batch 1:  Batch Loss= 1.466292, Validation Accuracy= 0.42520\n",
      "Epoch 36, CIFAR-10 Batch 1:  Batch Loss= 1.364367, Validation Accuracy= 0.44720\n",
      "Epoch 37, CIFAR-10 Batch 1:  Batch Loss= 1.322510, Validation Accuracy= 0.44840\n",
      "Epoch 38, CIFAR-10 Batch 1:  Batch Loss= 1.295857, Validation Accuracy= 0.45560\n",
      "Epoch 39, CIFAR-10 Batch 1:  Batch Loss= 1.206918, Validation Accuracy= 0.47400\n",
      "Epoch 40, CIFAR-10 Batch 1:  Batch Loss= 1.182972, Validation Accuracy= 0.46860\n",
      "Epoch 41, CIFAR-10 Batch 1:  Batch Loss= 1.159026, Validation Accuracy= 0.46540\n",
      "Epoch 42, CIFAR-10 Batch 1:  Batch Loss= 1.065225, Validation Accuracy= 0.48060\n",
      "Epoch 43, CIFAR-10 Batch 1:  Batch Loss= 1.037699, Validation Accuracy= 0.48260\n",
      "Epoch 44, CIFAR-10 Batch 1:  Batch Loss= 0.910459, Validation Accuracy= 0.47940\n",
      "Epoch 45, CIFAR-10 Batch 1:  Batch Loss= 0.887272, Validation Accuracy= 0.49680\n",
      "Epoch 46, CIFAR-10 Batch 1:  Batch Loss= 0.848074, Validation Accuracy= 0.49640\n",
      "Epoch 47, CIFAR-10 Batch 1:  Batch Loss= 0.793593, Validation Accuracy= 0.49280\n",
      "Epoch 48, CIFAR-10 Batch 1:  Batch Loss= 0.791989, Validation Accuracy= 0.49360\n",
      "Epoch 49, CIFAR-10 Batch 1:  Batch Loss= 0.695549, Validation Accuracy= 0.50380\n",
      "Epoch 50, CIFAR-10 Batch 1:  Batch Loss= 0.647152, Validation Accuracy= 0.49960\n",
      "Epoch 51, CIFAR-10 Batch 1:  Batch Loss= 0.651620, Validation Accuracy= 0.50760\n",
      "Epoch 52, CIFAR-10 Batch 1:  Batch Loss= 0.661487, Validation Accuracy= 0.50120\n",
      "Epoch 53, CIFAR-10 Batch 1:  Batch Loss= 0.599604, Validation Accuracy= 0.51320\n",
      "Epoch 54, CIFAR-10 Batch 1:  Batch Loss= 0.584566, Validation Accuracy= 0.49540\n",
      "Epoch 55, CIFAR-10 Batch 1:  Batch Loss= 0.538647, Validation Accuracy= 0.51980\n",
      "Epoch 56, CIFAR-10 Batch 1:  Batch Loss= 0.486339, Validation Accuracy= 0.51220\n",
      "Epoch 57, CIFAR-10 Batch 1:  Batch Loss= 0.461690, Validation Accuracy= 0.52560\n",
      "Epoch 58, CIFAR-10 Batch 1:  Batch Loss= 0.425254, Validation Accuracy= 0.52280\n",
      "Epoch 59, CIFAR-10 Batch 1:  Batch Loss= 0.443984, Validation Accuracy= 0.52660\n",
      "Epoch 60, CIFAR-10 Batch 1:  Batch Loss= 0.383435, Validation Accuracy= 0.50840\n",
      "Epoch 61, CIFAR-10 Batch 1:  Batch Loss= 0.323926, Validation Accuracy= 0.52700\n",
      "Epoch 62, CIFAR-10 Batch 1:  Batch Loss= 0.305614, Validation Accuracy= 0.52820\n",
      "Epoch 63, CIFAR-10 Batch 1:  Batch Loss= 0.316833, Validation Accuracy= 0.52060\n",
      "Epoch 64, CIFAR-10 Batch 1:  Batch Loss= 0.278323, Validation Accuracy= 0.52040\n",
      "Epoch 65, CIFAR-10 Batch 1:  Batch Loss= 0.240362, Validation Accuracy= 0.53020\n"
     ]
    }
   ],
   "source": [
    "\"\"\"\n",
    "DON'T MODIFY ANYTHING IN THIS CELL\n",
    "\"\"\"\n",
    "print('Checking the Training on a Single Batch...')\n",
    "with tf.Session() as sess:\n",
    "    # Initializing the variables\n",
    "    sess.run(tf.global_variables_initializer())\n",
    "    \n",
    "    # Training cycle\n",
    "    for epoch in range(epochs):\n",
    "        batch_i = 1\n",
    "        for batch_features, batch_labels in helper.load_preprocess_training_batch(batch_i, batch_size):\n",
    "            train_neural_network(sess, optimizer, keep_probability, batch_features, batch_labels)\n",
    "        print('Epoch {:>2}, CIFAR-10 Batch {}:  '.format(epoch + 1, batch_i), end='')\n",
    "        #sys.stdout.write('\\r Epoch {:>2}, CIFAR-10 Batch {}:  '.format(epoch + 1, batch_i))\n",
    "        #sys.stdout.flush()\n",
    "        print_stats(sess, batch_features, batch_labels, cost, accuracy)"
   ]
  },
  {
   "cell_type": "markdown",
   "metadata": {
    "deletable": true,
    "editable": true
   },
   "source": [
    "### Fully Train the Model\n",
    "Now that you got a good accuracy with a single CIFAR-10 batch, try it with all five batches."
   ]
  },
  {
   "cell_type": "code",
   "execution_count": 23,
   "metadata": {
    "collapsed": false,
    "deletable": true,
    "editable": true
   },
   "outputs": [
    {
     "name": "stdout",
     "output_type": "stream",
     "text": [
      "Training...\n",
      "Epoch  1, CIFAR-10 Batch 1:  Batch Loss= 2.528962, Validation Accuracy= 0.10720\n",
      "Epoch  1, CIFAR-10 Batch 2:  Batch Loss= 2.334921, Validation Accuracy= 0.10680\n",
      "Epoch  1, CIFAR-10 Batch 3:  Batch Loss= 2.290088, Validation Accuracy= 0.13360\n",
      "Epoch  1, CIFAR-10 Batch 4:  Batch Loss= 2.299055, Validation Accuracy= 0.15600\n",
      "Epoch  1, CIFAR-10 Batch 5:  Batch Loss= 2.351508, Validation Accuracy= 0.17260\n",
      "Epoch  2, CIFAR-10 Batch 1:  Batch Loss= 2.194881, Validation Accuracy= 0.19360\n",
      "Epoch  2, CIFAR-10 Batch 2:  Batch Loss= 2.187415, Validation Accuracy= 0.21740\n",
      "Epoch  2, CIFAR-10 Batch 3:  Batch Loss= 1.901114, Validation Accuracy= 0.22280\n",
      "Epoch  2, CIFAR-10 Batch 4:  Batch Loss= 1.935862, Validation Accuracy= 0.23460\n",
      "Epoch  2, CIFAR-10 Batch 5:  Batch Loss= 2.127775, Validation Accuracy= 0.23760\n",
      "Epoch  3, CIFAR-10 Batch 1:  Batch Loss= 2.089600, Validation Accuracy= 0.24540\n",
      "Epoch  3, CIFAR-10 Batch 2:  Batch Loss= 2.044777, Validation Accuracy= 0.27680\n",
      "Epoch  3, CIFAR-10 Batch 3:  Batch Loss= 1.754463, Validation Accuracy= 0.28740\n",
      "Epoch  3, CIFAR-10 Batch 4:  Batch Loss= 1.780333, Validation Accuracy= 0.30560\n",
      "Epoch  3, CIFAR-10 Batch 5:  Batch Loss= 2.016411, Validation Accuracy= 0.30640\n",
      "Epoch  4, CIFAR-10 Batch 1:  Batch Loss= 1.978914, Validation Accuracy= 0.33180\n",
      "Epoch  4, CIFAR-10 Batch 2:  Batch Loss= 1.906418, Validation Accuracy= 0.33520\n",
      "Epoch  4, CIFAR-10 Batch 3:  Batch Loss= 1.549386, Validation Accuracy= 0.34840\n",
      "Epoch  4, CIFAR-10 Batch 4:  Batch Loss= 1.646689, Validation Accuracy= 0.35420\n",
      "Epoch  4, CIFAR-10 Batch 5:  Batch Loss= 1.818298, Validation Accuracy= 0.37620\n",
      "Epoch  5, CIFAR-10 Batch 1:  Batch Loss= 1.842839, Validation Accuracy= 0.36440\n",
      "Epoch  5, CIFAR-10 Batch 2:  Batch Loss= 1.836458, Validation Accuracy= 0.37020\n",
      "Epoch  5, CIFAR-10 Batch 3:  Batch Loss= 1.444213, Validation Accuracy= 0.38700\n",
      "Epoch  5, CIFAR-10 Batch 4:  Batch Loss= 1.626707, Validation Accuracy= 0.38300\n",
      "Epoch  5, CIFAR-10 Batch 5:  Batch Loss= 1.845782, Validation Accuracy= 0.40020\n",
      "Epoch  6, CIFAR-10 Batch 1:  Batch Loss= 1.923561, Validation Accuracy= 0.38180\n",
      "Epoch  6, CIFAR-10 Batch 2:  Batch Loss= 1.640804, Validation Accuracy= 0.41020\n",
      "Epoch  6, CIFAR-10 Batch 3:  Batch Loss= 1.341594, Validation Accuracy= 0.41700\n",
      "Epoch  6, CIFAR-10 Batch 4:  Batch Loss= 1.537547, Validation Accuracy= 0.42200\n",
      "Epoch  6, CIFAR-10 Batch 5:  Batch Loss= 1.801262, Validation Accuracy= 0.43020\n",
      "Epoch  7, CIFAR-10 Batch 1:  Batch Loss= 1.780844, Validation Accuracy= 0.42660\n",
      "Epoch  7, CIFAR-10 Batch 2:  Batch Loss= 1.592172, Validation Accuracy= 0.42960\n",
      "Epoch  7, CIFAR-10 Batch 3:  Batch Loss= 1.311506, Validation Accuracy= 0.43000\n",
      "Epoch  7, CIFAR-10 Batch 4:  Batch Loss= 1.455022, Validation Accuracy= 0.44300\n",
      "Epoch  7, CIFAR-10 Batch 5:  Batch Loss= 1.722022, Validation Accuracy= 0.44740\n",
      "Epoch  8, CIFAR-10 Batch 1:  Batch Loss= 1.713338, Validation Accuracy= 0.44560\n",
      "Epoch  8, CIFAR-10 Batch 2:  Batch Loss= 1.496234, Validation Accuracy= 0.43760\n",
      "Epoch  8, CIFAR-10 Batch 3:  Batch Loss= 1.282927, Validation Accuracy= 0.45700\n",
      "Epoch  8, CIFAR-10 Batch 4:  Batch Loss= 1.417953, Validation Accuracy= 0.43360\n",
      "Epoch  8, CIFAR-10 Batch 5:  Batch Loss= 1.674313, Validation Accuracy= 0.46380\n",
      "Epoch  9, CIFAR-10 Batch 1:  Batch Loss= 1.653148, Validation Accuracy= 0.46140\n",
      "Epoch  9, CIFAR-10 Batch 2:  Batch Loss= 1.356426, Validation Accuracy= 0.46400\n",
      "Epoch  9, CIFAR-10 Batch 3:  Batch Loss= 1.183017, Validation Accuracy= 0.47080\n",
      "Epoch  9, CIFAR-10 Batch 4:  Batch Loss= 1.364900, Validation Accuracy= 0.46920\n",
      "Epoch  9, CIFAR-10 Batch 5:  Batch Loss= 1.645078, Validation Accuracy= 0.47940\n",
      "Epoch 10, CIFAR-10 Batch 1:  Batch Loss= 1.603949, Validation Accuracy= 0.47260\n",
      "Epoch 10, CIFAR-10 Batch 2:  Batch Loss= 1.318648, Validation Accuracy= 0.48580\n",
      "Epoch 10, CIFAR-10 Batch 3:  Batch Loss= 1.191840, Validation Accuracy= 0.48040\n",
      "Epoch 10, CIFAR-10 Batch 4:  Batch Loss= 1.343180, Validation Accuracy= 0.46940\n",
      "Epoch 10, CIFAR-10 Batch 5:  Batch Loss= 1.510501, Validation Accuracy= 0.49020\n",
      "Epoch 11, CIFAR-10 Batch 1:  Batch Loss= 1.504630, Validation Accuracy= 0.49780\n",
      "Epoch 11, CIFAR-10 Batch 2:  Batch Loss= 1.235765, Validation Accuracy= 0.50520\n",
      "Epoch 11, CIFAR-10 Batch 3:  Batch Loss= 1.007355, Validation Accuracy= 0.50100\n",
      "Epoch 11, CIFAR-10 Batch 4:  Batch Loss= 1.208064, Validation Accuracy= 0.50320\n",
      "Epoch 11, CIFAR-10 Batch 5:  Batch Loss= 1.469681, Validation Accuracy= 0.50300\n",
      "Epoch 12, CIFAR-10 Batch 1:  Batch Loss= 1.394329, Validation Accuracy= 0.52240\n",
      "Epoch 12, CIFAR-10 Batch 2:  Batch Loss= 1.170968, Validation Accuracy= 0.52460\n",
      "Epoch 12, CIFAR-10 Batch 3:  Batch Loss= 0.996857, Validation Accuracy= 0.52300\n",
      "Epoch 12, CIFAR-10 Batch 4:  Batch Loss= 1.078918, Validation Accuracy= 0.52600\n",
      "Epoch 12, CIFAR-10 Batch 5:  Batch Loss= 1.317881, Validation Accuracy= 0.51900\n",
      "Epoch 13, CIFAR-10 Batch 1:  Batch Loss= 1.312870, Validation Accuracy= 0.54000\n",
      "Epoch 13, CIFAR-10 Batch 2:  Batch Loss= 1.079516, Validation Accuracy= 0.53100\n",
      "Epoch 13, CIFAR-10 Batch 3:  Batch Loss= 0.897692, Validation Accuracy= 0.52800\n",
      "Epoch 13, CIFAR-10 Batch 4:  Batch Loss= 1.046500, Validation Accuracy= 0.54780\n",
      "Epoch 13, CIFAR-10 Batch 5:  Batch Loss= 1.172546, Validation Accuracy= 0.54480\n",
      "Epoch 14, CIFAR-10 Batch 1:  Batch Loss= 1.211789, Validation Accuracy= 0.54780\n",
      "Epoch 14, CIFAR-10 Batch 2:  Batch Loss= 1.004638, Validation Accuracy= 0.55440\n",
      "Epoch 14, CIFAR-10 Batch 3:  Batch Loss= 0.902269, Validation Accuracy= 0.54780\n",
      "Epoch 14, CIFAR-10 Batch 4:  Batch Loss= 0.963994, Validation Accuracy= 0.55920\n",
      "Epoch 14, CIFAR-10 Batch 5:  Batch Loss= 1.125668, Validation Accuracy= 0.55140\n",
      "Epoch 15, CIFAR-10 Batch 1:  Batch Loss= 1.108005, Validation Accuracy= 0.56720\n",
      "Epoch 15, CIFAR-10 Batch 2:  Batch Loss= 0.973692, Validation Accuracy= 0.56540\n",
      "Epoch 15, CIFAR-10 Batch 3:  Batch Loss= 0.782225, Validation Accuracy= 0.55140\n",
      "Epoch 15, CIFAR-10 Batch 4:  Batch Loss= 0.900364, Validation Accuracy= 0.57520\n",
      "Epoch 15, CIFAR-10 Batch 5:  Batch Loss= 1.005907, Validation Accuracy= 0.55740\n",
      "Epoch 16, CIFAR-10 Batch 1:  Batch Loss= 1.001355, Validation Accuracy= 0.57500\n",
      "Epoch 16, CIFAR-10 Batch 2:  Batch Loss= 0.932546, Validation Accuracy= 0.56520\n",
      "Epoch 16, CIFAR-10 Batch 3:  Batch Loss= 0.692572, Validation Accuracy= 0.55520\n",
      "Epoch 16, CIFAR-10 Batch 4:  Batch Loss= 0.798053, Validation Accuracy= 0.58840\n",
      "Epoch 16, CIFAR-10 Batch 5:  Batch Loss= 0.935242, Validation Accuracy= 0.58480\n",
      "Epoch 17, CIFAR-10 Batch 1:  Batch Loss= 0.970547, Validation Accuracy= 0.57640\n",
      "Epoch 17, CIFAR-10 Batch 2:  Batch Loss= 0.901541, Validation Accuracy= 0.58360\n",
      "Epoch 17, CIFAR-10 Batch 3:  Batch Loss= 0.714172, Validation Accuracy= 0.57040\n",
      "Epoch 17, CIFAR-10 Batch 4:  Batch Loss= 0.774025, Validation Accuracy= 0.58440\n",
      "Epoch 17, CIFAR-10 Batch 5:  Batch Loss= 0.905779, Validation Accuracy= 0.57260\n",
      "Epoch 18, CIFAR-10 Batch 1:  Batch Loss= 0.891211, Validation Accuracy= 0.59140\n",
      "Epoch 18, CIFAR-10 Batch 2:  Batch Loss= 0.834179, Validation Accuracy= 0.59380\n",
      "Epoch 18, CIFAR-10 Batch 3:  Batch Loss= 0.602799, Validation Accuracy= 0.59080\n",
      "Epoch 18, CIFAR-10 Batch 4:  Batch Loss= 0.757327, Validation Accuracy= 0.59160\n",
      "Epoch 18, CIFAR-10 Batch 5:  Batch Loss= 0.814673, Validation Accuracy= 0.59280\n",
      "Epoch 19, CIFAR-10 Batch 1:  Batch Loss= 0.845936, Validation Accuracy= 0.60180\n",
      "Epoch 19, CIFAR-10 Batch 2:  Batch Loss= 0.773454, Validation Accuracy= 0.59180\n",
      "Epoch 19, CIFAR-10 Batch 3:  Batch Loss= 0.547433, Validation Accuracy= 0.60000\n",
      "Epoch 19, CIFAR-10 Batch 4:  Batch Loss= 0.629909, Validation Accuracy= 0.58840\n",
      "Epoch 19, CIFAR-10 Batch 5:  Batch Loss= 0.725486, Validation Accuracy= 0.58480\n",
      "Epoch 20, CIFAR-10 Batch 1:  Batch Loss= 0.740670, Validation Accuracy= 0.60840\n",
      "Epoch 20, CIFAR-10 Batch 2:  Batch Loss= 0.710590, Validation Accuracy= 0.60040\n",
      "Epoch 20, CIFAR-10 Batch 3:  Batch Loss= 0.485716, Validation Accuracy= 0.60200\n",
      "Epoch 20, CIFAR-10 Batch 4:  Batch Loss= 0.573505, Validation Accuracy= 0.60000\n",
      "Epoch 20, CIFAR-10 Batch 5:  Batch Loss= 0.637736, Validation Accuracy= 0.61200\n",
      "Epoch 21, CIFAR-10 Batch 1:  Batch Loss= 0.657917, Validation Accuracy= 0.60740\n",
      "Epoch 21, CIFAR-10 Batch 2:  Batch Loss= 0.576740, Validation Accuracy= 0.59920\n",
      "Epoch 21, CIFAR-10 Batch 3:  Batch Loss= 0.460850, Validation Accuracy= 0.60280\n",
      "Epoch 21, CIFAR-10 Batch 4:  Batch Loss= 0.536887, Validation Accuracy= 0.60100\n",
      "Epoch 21, CIFAR-10 Batch 5:  Batch Loss= 0.654726, Validation Accuracy= 0.61240\n",
      "Epoch 22, CIFAR-10 Batch 1:  Batch Loss= 0.610905, Validation Accuracy= 0.62160\n",
      "Epoch 22, CIFAR-10 Batch 2:  Batch Loss= 0.534773, Validation Accuracy= 0.59860\n",
      "Epoch 22, CIFAR-10 Batch 3:  Batch Loss= 0.404069, Validation Accuracy= 0.61540\n",
      "Epoch 22, CIFAR-10 Batch 4:  Batch Loss= 0.497029, Validation Accuracy= 0.60760\n",
      "Epoch 22, CIFAR-10 Batch 5:  Batch Loss= 0.541915, Validation Accuracy= 0.61300\n",
      "Epoch 23, CIFAR-10 Batch 1:  Batch Loss= 0.654634, Validation Accuracy= 0.61740\n",
      "Epoch 23, CIFAR-10 Batch 2:  Batch Loss= 0.556896, Validation Accuracy= 0.61600\n",
      "Epoch 23, CIFAR-10 Batch 3:  Batch Loss= 0.357147, Validation Accuracy= 0.62460\n",
      "Epoch 23, CIFAR-10 Batch 4:  Batch Loss= 0.471786, Validation Accuracy= 0.61380\n",
      "Epoch 23, CIFAR-10 Batch 5:  Batch Loss= 0.447313, Validation Accuracy= 0.61880\n",
      "Epoch 24, CIFAR-10 Batch 1:  Batch Loss= 0.585085, Validation Accuracy= 0.61860\n",
      "Epoch 24, CIFAR-10 Batch 2:  Batch Loss= 0.472996, Validation Accuracy= 0.62760\n",
      "Epoch 24, CIFAR-10 Batch 3:  Batch Loss= 0.308990, Validation Accuracy= 0.63260\n",
      "Epoch 24, CIFAR-10 Batch 4:  Batch Loss= 0.440940, Validation Accuracy= 0.62660\n",
      "Epoch 24, CIFAR-10 Batch 5:  Batch Loss= 0.345979, Validation Accuracy= 0.62560\n",
      "Epoch 25, CIFAR-10 Batch 1:  Batch Loss= 0.539057, Validation Accuracy= 0.60140\n",
      "Epoch 25, CIFAR-10 Batch 2:  Batch Loss= 0.414065, Validation Accuracy= 0.62500\n",
      "Epoch 25, CIFAR-10 Batch 3:  Batch Loss= 0.251064, Validation Accuracy= 0.63300\n",
      "Epoch 25, CIFAR-10 Batch 4:  Batch Loss= 0.411001, Validation Accuracy= 0.62380\n",
      "Epoch 25, CIFAR-10 Batch 5:  Batch Loss= 0.292597, Validation Accuracy= 0.62920\n",
      "Epoch 26, CIFAR-10 Batch 1:  Batch Loss= 0.487334, Validation Accuracy= 0.62440\n",
      "Epoch 26, CIFAR-10 Batch 2:  Batch Loss= 0.403681, Validation Accuracy= 0.63200\n",
      "Epoch 26, CIFAR-10 Batch 3:  Batch Loss= 0.237302, Validation Accuracy= 0.63380\n",
      "Epoch 26, CIFAR-10 Batch 4:  Batch Loss= 0.386672, Validation Accuracy= 0.61760\n",
      "Epoch 26, CIFAR-10 Batch 5:  Batch Loss= 0.229434, Validation Accuracy= 0.63160\n",
      "Epoch 27, CIFAR-10 Batch 1:  Batch Loss= 0.389198, Validation Accuracy= 0.63180\n",
      "Epoch 27, CIFAR-10 Batch 2:  Batch Loss= 0.324346, Validation Accuracy= 0.63340\n",
      "Epoch 27, CIFAR-10 Batch 3:  Batch Loss= 0.177636, Validation Accuracy= 0.63680\n",
      "Epoch 27, CIFAR-10 Batch 4:  Batch Loss= 0.314897, Validation Accuracy= 0.63180\n",
      "Epoch 27, CIFAR-10 Batch 5:  Batch Loss= 0.185396, Validation Accuracy= 0.62680\n",
      "Epoch 28, CIFAR-10 Batch 1:  Batch Loss= 0.338973, Validation Accuracy= 0.63160\n",
      "Epoch 28, CIFAR-10 Batch 2:  Batch Loss= 0.310618, Validation Accuracy= 0.62900\n",
      "Epoch 28, CIFAR-10 Batch 3:  Batch Loss= 0.178157, Validation Accuracy= 0.64340\n",
      "Epoch 28, CIFAR-10 Batch 4:  Batch Loss= 0.262558, Validation Accuracy= 0.63000\n",
      "Epoch 28, CIFAR-10 Batch 5:  Batch Loss= 0.178444, Validation Accuracy= 0.62540\n",
      "Epoch 29, CIFAR-10 Batch 1:  Batch Loss= 0.287510, Validation Accuracy= 0.63660\n",
      "Epoch 29, CIFAR-10 Batch 2:  Batch Loss= 0.241368, Validation Accuracy= 0.63440\n",
      "Epoch 29, CIFAR-10 Batch 3:  Batch Loss= 0.150447, Validation Accuracy= 0.63940\n",
      "Epoch 29, CIFAR-10 Batch 4:  Batch Loss= 0.232323, Validation Accuracy= 0.63700\n",
      "Epoch 29, CIFAR-10 Batch 5:  Batch Loss= 0.090912, Validation Accuracy= 0.64580\n",
      "Epoch 30, CIFAR-10 Batch 1:  Batch Loss= 0.342117, Validation Accuracy= 0.63420\n",
      "Epoch 30, CIFAR-10 Batch 2:  Batch Loss= 0.209607, Validation Accuracy= 0.64040\n",
      "Epoch 30, CIFAR-10 Batch 3:  Batch Loss= 0.084708, Validation Accuracy= 0.64940\n",
      "Epoch 30, CIFAR-10 Batch 4:  Batch Loss= 0.160399, Validation Accuracy= 0.64180\n",
      "Epoch 30, CIFAR-10 Batch 5:  Batch Loss= 0.096042, Validation Accuracy= 0.62200\n",
      "Epoch 31, CIFAR-10 Batch 1:  Batch Loss= 0.248256, Validation Accuracy= 0.63820\n",
      "Epoch 31, CIFAR-10 Batch 2:  Batch Loss= 0.183013, Validation Accuracy= 0.63880\n",
      "Epoch 31, CIFAR-10 Batch 3:  Batch Loss= 0.089109, Validation Accuracy= 0.65300\n",
      "Epoch 31, CIFAR-10 Batch 4:  Batch Loss= 0.133887, Validation Accuracy= 0.64940\n",
      "Epoch 31, CIFAR-10 Batch 5:  Batch Loss= 0.049156, Validation Accuracy= 0.63300\n",
      "Epoch 32, CIFAR-10 Batch 1:  Batch Loss= 0.196138, Validation Accuracy= 0.64880\n",
      "Epoch 32, CIFAR-10 Batch 2:  Batch Loss= 0.126731, Validation Accuracy= 0.63440\n",
      "Epoch 32, CIFAR-10 Batch 3:  Batch Loss= 0.083749, Validation Accuracy= 0.64700\n",
      "Epoch 32, CIFAR-10 Batch 4:  Batch Loss= 0.080083, Validation Accuracy= 0.64940\n",
      "Epoch 32, CIFAR-10 Batch 5:  Batch Loss= 0.052158, Validation Accuracy= 0.62860\n",
      "Epoch 33, CIFAR-10 Batch 1:  Batch Loss= 0.148732, Validation Accuracy= 0.63280\n",
      "Epoch 33, CIFAR-10 Batch 2:  Batch Loss= 0.136304, Validation Accuracy= 0.63780\n",
      "Epoch 33, CIFAR-10 Batch 3:  Batch Loss= 0.053671, Validation Accuracy= 0.64600\n",
      "Epoch 33, CIFAR-10 Batch 4:  Batch Loss= 0.087260, Validation Accuracy= 0.65600\n",
      "Epoch 33, CIFAR-10 Batch 5:  Batch Loss= 0.043075, Validation Accuracy= 0.63420\n",
      "Epoch 34, CIFAR-10 Batch 1:  Batch Loss= 0.171892, Validation Accuracy= 0.63860\n",
      "Epoch 34, CIFAR-10 Batch 2:  Batch Loss= 0.109619, Validation Accuracy= 0.63440\n",
      "Epoch 34, CIFAR-10 Batch 3:  Batch Loss= 0.047982, Validation Accuracy= 0.65360\n",
      "Epoch 34, CIFAR-10 Batch 4:  Batch Loss= 0.084063, Validation Accuracy= 0.65860\n",
      "Epoch 34, CIFAR-10 Batch 5:  Batch Loss= 0.043766, Validation Accuracy= 0.64560\n",
      "Epoch 35, CIFAR-10 Batch 1:  Batch Loss= 0.142360, Validation Accuracy= 0.64100\n",
      "Epoch 35, CIFAR-10 Batch 2:  Batch Loss= 0.083211, Validation Accuracy= 0.63920\n",
      "Epoch 35, CIFAR-10 Batch 3:  Batch Loss= 0.059029, Validation Accuracy= 0.65520\n",
      "Epoch 35, CIFAR-10 Batch 4:  Batch Loss= 0.060818, Validation Accuracy= 0.65240\n",
      "Epoch 35, CIFAR-10 Batch 5:  Batch Loss= 0.049394, Validation Accuracy= 0.62240\n",
      "Epoch 36, CIFAR-10 Batch 1:  Batch Loss= 0.094813, Validation Accuracy= 0.64040\n",
      "Epoch 36, CIFAR-10 Batch 2:  Batch Loss= 0.073224, Validation Accuracy= 0.64960\n",
      "Epoch 36, CIFAR-10 Batch 3:  Batch Loss= 0.046416, Validation Accuracy= 0.65320\n",
      "Epoch 36, CIFAR-10 Batch 4:  Batch Loss= 0.069983, Validation Accuracy= 0.65640\n",
      "Epoch 36, CIFAR-10 Batch 5:  Batch Loss= 0.037317, Validation Accuracy= 0.64320\n",
      "Epoch 37, CIFAR-10 Batch 1:  Batch Loss= 0.104101, Validation Accuracy= 0.62560\n",
      "Epoch 37, CIFAR-10 Batch 2:  Batch Loss= 0.084655, Validation Accuracy= 0.64940\n",
      "Epoch 37, CIFAR-10 Batch 3:  Batch Loss= 0.036927, Validation Accuracy= 0.64540\n",
      "Epoch 37, CIFAR-10 Batch 4:  Batch Loss= 0.044271, Validation Accuracy= 0.66040\n",
      "Epoch 37, CIFAR-10 Batch 5:  Batch Loss= 0.024814, Validation Accuracy= 0.63460\n",
      "Epoch 38, CIFAR-10 Batch 1:  Batch Loss= 0.078776, Validation Accuracy= 0.63540\n",
      "Epoch 38, CIFAR-10 Batch 2:  Batch Loss= 0.056255, Validation Accuracy= 0.65380\n",
      "Epoch 38, CIFAR-10 Batch 3:  Batch Loss= 0.028115, Validation Accuracy= 0.66180\n",
      "Epoch 38, CIFAR-10 Batch 4:  Batch Loss= 0.048677, Validation Accuracy= 0.65260\n",
      "Epoch 38, CIFAR-10 Batch 5:  Batch Loss= 0.019141, Validation Accuracy= 0.64720\n",
      "Epoch 39, CIFAR-10 Batch 1:  Batch Loss= 0.065488, Validation Accuracy= 0.64740\n",
      "Epoch 39, CIFAR-10 Batch 2:  Batch Loss= 0.042181, Validation Accuracy= 0.64700\n",
      "Epoch 39, CIFAR-10 Batch 3:  Batch Loss= 0.026115, Validation Accuracy= 0.65280\n",
      "Epoch 39, CIFAR-10 Batch 4:  Batch Loss= 0.047466, Validation Accuracy= 0.65700\n",
      "Epoch 39, CIFAR-10 Batch 5:  Batch Loss= 0.026651, Validation Accuracy= 0.63080\n",
      "Epoch 40, CIFAR-10 Batch 1:  Batch Loss= 0.062130, Validation Accuracy= 0.64200\n",
      "Epoch 40, CIFAR-10 Batch 2:  Batch Loss= 0.063776, Validation Accuracy= 0.65040\n",
      "Epoch 40, CIFAR-10 Batch 3:  Batch Loss= 0.029781, Validation Accuracy= 0.65180\n",
      "Epoch 40, CIFAR-10 Batch 4:  Batch Loss= 0.031532, Validation Accuracy= 0.65880\n",
      "Epoch 40, CIFAR-10 Batch 5:  Batch Loss= 0.012836, Validation Accuracy= 0.64860\n",
      "Epoch 41, CIFAR-10 Batch 1:  Batch Loss= 0.048649, Validation Accuracy= 0.64540\n",
      "Epoch 41, CIFAR-10 Batch 2:  Batch Loss= 0.043163, Validation Accuracy= 0.64680\n",
      "Epoch 41, CIFAR-10 Batch 3:  Batch Loss= 0.019182, Validation Accuracy= 0.65740\n",
      "Epoch 41, CIFAR-10 Batch 4:  Batch Loss= 0.021120, Validation Accuracy= 0.66100\n",
      "Epoch 41, CIFAR-10 Batch 5:  Batch Loss= 0.010871, Validation Accuracy= 0.65140\n",
      "Epoch 42, CIFAR-10 Batch 1:  Batch Loss= 0.055145, Validation Accuracy= 0.64720\n",
      "Epoch 42, CIFAR-10 Batch 2:  Batch Loss= 0.026507, Validation Accuracy= 0.64400\n",
      "Epoch 42, CIFAR-10 Batch 3:  Batch Loss= 0.010905, Validation Accuracy= 0.64860\n",
      "Epoch 42, CIFAR-10 Batch 4:  Batch Loss= 0.026316, Validation Accuracy= 0.65080\n",
      "Epoch 42, CIFAR-10 Batch 5:  Batch Loss= 0.025638, Validation Accuracy= 0.64200\n",
      "Epoch 43, CIFAR-10 Batch 1:  Batch Loss= 0.038855, Validation Accuracy= 0.64940\n",
      "Epoch 43, CIFAR-10 Batch 2:  Batch Loss= 0.026187, Validation Accuracy= 0.63560\n",
      "Epoch 43, CIFAR-10 Batch 3:  Batch Loss= 0.011335, Validation Accuracy= 0.65400\n",
      "Epoch 43, CIFAR-10 Batch 4:  Batch Loss= 0.024149, Validation Accuracy= 0.65140\n",
      "Epoch 43, CIFAR-10 Batch 5:  Batch Loss= 0.013683, Validation Accuracy= 0.64860\n",
      "Epoch 44, CIFAR-10 Batch 1:  Batch Loss= 0.044512, Validation Accuracy= 0.64760\n",
      "Epoch 44, CIFAR-10 Batch 2:  Batch Loss= 0.046076, Validation Accuracy= 0.62680\n",
      "Epoch 44, CIFAR-10 Batch 3:  Batch Loss= 0.012517, Validation Accuracy= 0.65280\n",
      "Epoch 44, CIFAR-10 Batch 4:  Batch Loss= 0.017868, Validation Accuracy= 0.65680\n",
      "Epoch 44, CIFAR-10 Batch 5:  Batch Loss= 0.016185, Validation Accuracy= 0.64960\n",
      "Epoch 45, CIFAR-10 Batch 1:  Batch Loss= 0.030618, Validation Accuracy= 0.64620\n",
      "Epoch 45, CIFAR-10 Batch 2:  Batch Loss= 0.019197, Validation Accuracy= 0.62980\n",
      "Epoch 45, CIFAR-10 Batch 3:  Batch Loss= 0.007882, Validation Accuracy= 0.65280\n",
      "Epoch 45, CIFAR-10 Batch 4:  Batch Loss= 0.013024, Validation Accuracy= 0.66140\n",
      "Epoch 45, CIFAR-10 Batch 5:  Batch Loss= 0.011669, Validation Accuracy= 0.65020\n",
      "Epoch 46, CIFAR-10 Batch 1:  Batch Loss= 0.018135, Validation Accuracy= 0.64160\n",
      "Epoch 46, CIFAR-10 Batch 2:  Batch Loss= 0.018599, Validation Accuracy= 0.63280\n",
      "Epoch 46, CIFAR-10 Batch 3:  Batch Loss= 0.008971, Validation Accuracy= 0.65900\n",
      "Epoch 46, CIFAR-10 Batch 4:  Batch Loss= 0.018439, Validation Accuracy= 0.64860\n",
      "Epoch 46, CIFAR-10 Batch 5:  Batch Loss= 0.009972, Validation Accuracy= 0.65540\n",
      "Epoch 47, CIFAR-10 Batch 1:  Batch Loss= 0.043992, Validation Accuracy= 0.64220\n",
      "Epoch 47, CIFAR-10 Batch 2:  Batch Loss= 0.013708, Validation Accuracy= 0.63260\n",
      "Epoch 47, CIFAR-10 Batch 3:  Batch Loss= 0.012093, Validation Accuracy= 0.65640\n",
      "Epoch 47, CIFAR-10 Batch 4:  Batch Loss= 0.014279, Validation Accuracy= 0.65920\n",
      "Epoch 47, CIFAR-10 Batch 5:  Batch Loss= 0.009472, Validation Accuracy= 0.65580\n",
      "Epoch 48, CIFAR-10 Batch 1:  Batch Loss= 0.022941, Validation Accuracy= 0.63660\n",
      "Epoch 48, CIFAR-10 Batch 2:  Batch Loss= 0.008776, Validation Accuracy= 0.63800\n",
      "Epoch 48, CIFAR-10 Batch 3:  Batch Loss= 0.008564, Validation Accuracy= 0.65860\n",
      "Epoch 48, CIFAR-10 Batch 4:  Batch Loss= 0.016040, Validation Accuracy= 0.65360\n",
      "Epoch 48, CIFAR-10 Batch 5:  Batch Loss= 0.027875, Validation Accuracy= 0.64340\n",
      "Epoch 49, CIFAR-10 Batch 1:  Batch Loss= 0.036725, Validation Accuracy= 0.65400\n",
      "Epoch 49, CIFAR-10 Batch 2:  Batch Loss= 0.011292, Validation Accuracy= 0.63340\n",
      "Epoch 49, CIFAR-10 Batch 3:  Batch Loss= 0.004092, Validation Accuracy= 0.66740\n",
      "Epoch 49, CIFAR-10 Batch 4:  Batch Loss= 0.012118, Validation Accuracy= 0.66260\n",
      "Epoch 49, CIFAR-10 Batch 5:  Batch Loss= 0.021814, Validation Accuracy= 0.65900\n",
      "Epoch 50, CIFAR-10 Batch 1:  Batch Loss= 0.021300, Validation Accuracy= 0.65700\n",
      "Epoch 50, CIFAR-10 Batch 2:  Batch Loss= 0.006258, Validation Accuracy= 0.63940\n",
      "Epoch 50, CIFAR-10 Batch 3:  Batch Loss= 0.003411, Validation Accuracy= 0.66840\n",
      "Epoch 50, CIFAR-10 Batch 4:  Batch Loss= 0.007757, Validation Accuracy= 0.66500\n",
      "Epoch 50, CIFAR-10 Batch 5:  Batch Loss= 0.007756, Validation Accuracy= 0.65740\n",
      "Epoch 51, CIFAR-10 Batch 1:  Batch Loss= 0.013482, Validation Accuracy= 0.64840\n",
      "Epoch 51, CIFAR-10 Batch 2:  Batch Loss= 0.007997, Validation Accuracy= 0.64320\n",
      "Epoch 51, CIFAR-10 Batch 3:  Batch Loss= 0.001370, Validation Accuracy= 0.66420\n",
      "Epoch 51, CIFAR-10 Batch 4:  Batch Loss= 0.004764, Validation Accuracy= 0.66580\n",
      "Epoch 51, CIFAR-10 Batch 5:  Batch Loss= 0.003986, Validation Accuracy= 0.66080\n",
      "Epoch 52, CIFAR-10 Batch 1:  Batch Loss= 0.030781, Validation Accuracy= 0.65360\n",
      "Epoch 52, CIFAR-10 Batch 2:  Batch Loss= 0.002920, Validation Accuracy= 0.64060\n",
      "Epoch 52, CIFAR-10 Batch 3:  Batch Loss= 0.001784, Validation Accuracy= 0.65900\n",
      "Epoch 52, CIFAR-10 Batch 4:  Batch Loss= 0.007280, Validation Accuracy= 0.65600\n",
      "Epoch 52, CIFAR-10 Batch 5:  Batch Loss= 0.005751, Validation Accuracy= 0.64980\n",
      "Epoch 53, CIFAR-10 Batch 1:  Batch Loss= 0.015069, Validation Accuracy= 0.64260\n",
      "Epoch 53, CIFAR-10 Batch 2:  Batch Loss= 0.003812, Validation Accuracy= 0.65400\n",
      "Epoch 53, CIFAR-10 Batch 3:  Batch Loss= 0.002114, Validation Accuracy= 0.66120\n",
      "Epoch 53, CIFAR-10 Batch 4:  Batch Loss= 0.007071, Validation Accuracy= 0.66020\n",
      "Epoch 53, CIFAR-10 Batch 5:  Batch Loss= 0.003168, Validation Accuracy= 0.65800\n",
      "Epoch 54, CIFAR-10 Batch 1:  Batch Loss= 0.008311, Validation Accuracy= 0.65220\n",
      "Epoch 54, CIFAR-10 Batch 2:  Batch Loss= 0.005757, Validation Accuracy= 0.65720\n",
      "Epoch 54, CIFAR-10 Batch 3:  Batch Loss= 0.001642, Validation Accuracy= 0.66180\n",
      "Epoch 54, CIFAR-10 Batch 4:  Batch Loss= 0.006897, Validation Accuracy= 0.66080\n",
      "Epoch 54, CIFAR-10 Batch 5:  Batch Loss= 0.004645, Validation Accuracy= 0.66220\n",
      "Epoch 55, CIFAR-10 Batch 1:  Batch Loss= 0.007584, Validation Accuracy= 0.65340\n",
      "Epoch 55, CIFAR-10 Batch 2:  Batch Loss= 0.001732, Validation Accuracy= 0.64920\n",
      "Epoch 55, CIFAR-10 Batch 3:  Batch Loss= 0.002502, Validation Accuracy= 0.65520\n",
      "Epoch 55, CIFAR-10 Batch 4:  Batch Loss= 0.008437, Validation Accuracy= 0.66420\n",
      "Epoch 55, CIFAR-10 Batch 5:  Batch Loss= 0.009427, Validation Accuracy= 0.66480\n",
      "Epoch 56, CIFAR-10 Batch 1:  Batch Loss= 0.013036, Validation Accuracy= 0.65100\n",
      "Epoch 56, CIFAR-10 Batch 2:  Batch Loss= 0.002455, Validation Accuracy= 0.65120\n",
      "Epoch 56, CIFAR-10 Batch 3:  Batch Loss= 0.004009, Validation Accuracy= 0.66180\n",
      "Epoch 56, CIFAR-10 Batch 4:  Batch Loss= 0.002041, Validation Accuracy= 0.66380\n",
      "Epoch 56, CIFAR-10 Batch 5:  Batch Loss= 0.009002, Validation Accuracy= 0.66280\n",
      "Epoch 57, CIFAR-10 Batch 1:  Batch Loss= 0.007426, Validation Accuracy= 0.65060\n",
      "Epoch 57, CIFAR-10 Batch 2:  Batch Loss= 0.002267, Validation Accuracy= 0.65600\n",
      "Epoch 57, CIFAR-10 Batch 3:  Batch Loss= 0.001845, Validation Accuracy= 0.65380\n",
      "Epoch 57, CIFAR-10 Batch 4:  Batch Loss= 0.002385, Validation Accuracy= 0.66440\n",
      "Epoch 57, CIFAR-10 Batch 5:  Batch Loss= 0.009553, Validation Accuracy= 0.65800\n",
      "Epoch 58, CIFAR-10 Batch 1:  Batch Loss= 0.004048, Validation Accuracy= 0.65160\n",
      "Epoch 58, CIFAR-10 Batch 2:  Batch Loss= 0.002785, Validation Accuracy= 0.64400\n",
      "Epoch 58, CIFAR-10 Batch 3:  Batch Loss= 0.001490, Validation Accuracy= 0.65060\n",
      "Epoch 58, CIFAR-10 Batch 4:  Batch Loss= 0.002187, Validation Accuracy= 0.66620\n",
      "Epoch 58, CIFAR-10 Batch 5:  Batch Loss= 0.002734, Validation Accuracy= 0.65740\n",
      "Epoch 59, CIFAR-10 Batch 1:  Batch Loss= 0.011486, Validation Accuracy= 0.63480\n",
      "Epoch 59, CIFAR-10 Batch 2:  Batch Loss= 0.001556, Validation Accuracy= 0.64600\n",
      "Epoch 59, CIFAR-10 Batch 3:  Batch Loss= 0.002159, Validation Accuracy= 0.65800\n",
      "Epoch 59, CIFAR-10 Batch 4:  Batch Loss= 0.002472, Validation Accuracy= 0.66000\n",
      "Epoch 59, CIFAR-10 Batch 5:  Batch Loss= 0.001310, Validation Accuracy= 0.65840\n",
      "Epoch 60, CIFAR-10 Batch 1:  Batch Loss= 0.007432, Validation Accuracy= 0.64760\n",
      "Epoch 60, CIFAR-10 Batch 2:  Batch Loss= 0.002054, Validation Accuracy= 0.64820\n",
      "Epoch 60, CIFAR-10 Batch 3:  Batch Loss= 0.001416, Validation Accuracy= 0.65000\n",
      "Epoch 60, CIFAR-10 Batch 4:  Batch Loss= 0.006988, Validation Accuracy= 0.65500\n",
      "Epoch 60, CIFAR-10 Batch 5:  Batch Loss= 0.002929, Validation Accuracy= 0.65940\n",
      "Epoch 61, CIFAR-10 Batch 1:  Batch Loss= 0.006635, Validation Accuracy= 0.65480\n",
      "Epoch 61, CIFAR-10 Batch 2:  Batch Loss= 0.002249, Validation Accuracy= 0.65360\n",
      "Epoch 61, CIFAR-10 Batch 3:  Batch Loss= 0.002761, Validation Accuracy= 0.65960\n",
      "Epoch 61, CIFAR-10 Batch 4:  Batch Loss= 0.000993, Validation Accuracy= 0.66040\n",
      "Epoch 61, CIFAR-10 Batch 5:  Batch Loss= 0.003622, Validation Accuracy= 0.64740\n",
      "Epoch 62, CIFAR-10 Batch 1:  Batch Loss= 0.009500, Validation Accuracy= 0.64860\n",
      "Epoch 62, CIFAR-10 Batch 2:  Batch Loss= 0.002248, Validation Accuracy= 0.65180\n",
      "Epoch 62, CIFAR-10 Batch 3:  Batch Loss= 0.005073, Validation Accuracy= 0.64440\n",
      "Epoch 62, CIFAR-10 Batch 4:  Batch Loss= 0.001304, Validation Accuracy= 0.66140\n",
      "Epoch 62, CIFAR-10 Batch 5:  Batch Loss= 0.003332, Validation Accuracy= 0.65240\n",
      "Epoch 63, CIFAR-10 Batch 1:  Batch Loss= 0.006981, Validation Accuracy= 0.64120\n",
      "Epoch 63, CIFAR-10 Batch 2:  Batch Loss= 0.000506, Validation Accuracy= 0.63380\n",
      "Epoch 63, CIFAR-10 Batch 3:  Batch Loss= 0.002580, Validation Accuracy= 0.65660\n",
      "Epoch 63, CIFAR-10 Batch 4:  Batch Loss= 0.001153, Validation Accuracy= 0.65340\n",
      "Epoch 63, CIFAR-10 Batch 5:  Batch Loss= 0.001794, Validation Accuracy= 0.65680\n",
      "Epoch 64, CIFAR-10 Batch 1:  Batch Loss= 0.001645, Validation Accuracy= 0.65500\n",
      "Epoch 64, CIFAR-10 Batch 2:  Batch Loss= 0.000733, Validation Accuracy= 0.65340\n",
      "Epoch 64, CIFAR-10 Batch 3:  Batch Loss= 0.008575, Validation Accuracy= 0.64680\n",
      "Epoch 64, CIFAR-10 Batch 4:  Batch Loss= 0.000540, Validation Accuracy= 0.65420\n",
      "Epoch 64, CIFAR-10 Batch 5:  Batch Loss= 0.001925, Validation Accuracy= 0.65240\n",
      "Epoch 65, CIFAR-10 Batch 1:  Batch Loss= 0.001949, Validation Accuracy= 0.65300\n",
      "Epoch 65, CIFAR-10 Batch 2:  Batch Loss= 0.001012, Validation Accuracy= 0.65440\n",
      "Epoch 65, CIFAR-10 Batch 3:  Batch Loss= 0.001851, Validation Accuracy= 0.65460\n",
      "Epoch 65, CIFAR-10 Batch 4:  Batch Loss= 0.001393, Validation Accuracy= 0.65660\n",
      "Epoch 65, CIFAR-10 Batch 5:  Batch Loss= 0.001584, Validation Accuracy= 0.65440\n"
     ]
    }
   ],
   "source": [
    "\"\"\"\n",
    "DON'T MODIFY ANYTHING IN THIS CELL\n",
    "\"\"\"\n",
    "save_model_path = './image_classification'\n",
    "\n",
    "print('Training...')\n",
    "with tf.Session() as sess:\n",
    "    # Initializing the variables\n",
    "    sess.run(tf.global_variables_initializer())\n",
    "    \n",
    "    # Training cycle\n",
    "    for epoch in range(epochs):\n",
    "        # Loop over all batches\n",
    "        n_batches = 5\n",
    "        for batch_i in range(1, n_batches + 1):\n",
    "            for batch_features, batch_labels in helper.load_preprocess_training_batch(batch_i, batch_size):\n",
    "                train_neural_network(sess, optimizer, keep_probability, batch_features, batch_labels)\n",
    "            print('Epoch {:>2}, CIFAR-10 Batch {}:  '.format(epoch + 1, batch_i), end='')\n",
    "            # sys.stdout.write('\\r Epoch {:>2}, CIFAR-10 Batch {}:  '.format(epoch + 1, batch_i))\n",
    "            print_stats(sess, batch_features, batch_labels, cost, accuracy)\n",
    "            \n",
    "    # Save Model\n",
    "    saver = tf.train.Saver()\n",
    "    save_path = saver.save(sess, save_model_path)"
   ]
  },
  {
   "cell_type": "markdown",
   "metadata": {
    "deletable": true,
    "editable": true
   },
   "source": [
    "# Checkpoint\n",
    "The model has been saved to disk.\n",
    "## Test Model\n",
    "Test your model against the test dataset.  This will be your final accuracy. You should have an accuracy greater than 50%. If you don't, keep tweaking the model architecture and parameters."
   ]
  },
  {
   "cell_type": "code",
   "execution_count": 26,
   "metadata": {
    "collapsed": false,
    "deletable": true,
    "editable": true
   },
   "outputs": [
    {
     "name": "stdout",
     "output_type": "stream",
     "text": [
      "Testing Accuracy: 0.6530854430379747\n",
      "\n"
     ]
    },
    {
     "data": {
      "image/png": "[encoded data removed]",
      "text/plain": [
       "<matplotlib.figure.Figure at 0x7f38400fa0f0>"
      ]
     },
     "metadata": {
      "image/png": {
       "height": 319,
       "width": 355
      }
     },
     "output_type": "display_data"
    }
   ],
   "source": [
    "\"\"\"\n",
    "DON'T MODIFY ANYTHING IN THIS CELL\n",
    "\"\"\"\n",
    "%matplotlib inline\n",
    "%config InlineBackend.figure_format = 'retina'\n",
    "\n",
    "import tensorflow as tf\n",
    "import pickle\n",
    "import helper\n",
    "import random\n",
    "\n",
    "# Set batch size if not already set\n",
    "try:\n",
    "    if batch_size:\n",
    "        pass\n",
    "except NameError:\n",
    "    batch_size = 64\n",
    "\n",
    "save_model_path = './image_classification'\n",
    "n_samples = 4\n",
    "top_n_predictions = 3\n",
    "\n",
    "def test_model():\n",
    "    \"\"\"\n",
    "    Test the saved model against the test dataset\n",
    "    \"\"\"\n",
    "\n",
    "    test_features, test_labels = pickle.load(open('preprocess_test.p', mode='rb'))\n",
    "    loaded_graph = tf.Graph()\n",
    "\n",
    "    with tf.Session(graph=loaded_graph) as sess:\n",
    "        # Load model\n",
    "        loader = tf.train.import_meta_graph(save_model_path + '.meta')\n",
    "        loader.restore(sess, save_model_path)\n",
    "\n",
    "        # Get Tensors from loaded model\n",
    "        loaded_x = loaded_graph.get_tensor_by_name('x:0')\n",
    "        loaded_y = loaded_graph.get_tensor_by_name('y:0')\n",
    "        loaded_keep_prob = loaded_graph.get_tensor_by_name('keep_prob:0')\n",
    "        loaded_logits = loaded_graph.get_tensor_by_name('logits:0')\n",
    "        loaded_acc = loaded_graph.get_tensor_by_name('accuracy:0')\n",
    "        \n",
    "        # Get accuracy in batches for memory limitations\n",
    "        test_batch_acc_total = 0\n",
    "        test_batch_count = 0\n",
    "        \n",
    "        for test_feature_batch, test_label_batch in helper.batch_features_labels(test_features, test_labels, batch_size):\n",
    "            test_batch_acc_total += sess.run(\n",
    "                loaded_acc,\n",
    "                feed_dict={loaded_x: test_feature_batch, loaded_y: test_label_batch, loaded_keep_prob: 1.0})\n",
    "            test_batch_count += 1\n",
    "\n",
    "        print('Testing Accuracy: {}\\n'.format(test_batch_acc_total/test_batch_count))\n",
    "\n",
    "        # Print Random Samples\n",
    "        random_test_features, random_test_labels = tuple(zip(*random.sample(list(zip(test_features, test_labels)), n_samples)))\n",
    "        random_test_predictions = sess.run(\n",
    "            tf.nn.top_k(tf.nn.softmax(loaded_logits), top_n_predictions),\n",
    "            feed_dict={loaded_x: random_test_features, loaded_y: random_test_labels, loaded_keep_prob: 1.0})\n",
    "        helper.display_image_predictions(random_test_features, random_test_labels, random_test_predictions)\n",
    "\n",
    "\n",
    "test_model()"
   ]
  },
  {
   "cell_type": "markdown",
   "metadata": {
    "deletable": true,
    "editable": true
   },
   "source": [
    "## Why 50-80% Accuracy?\n",
    "You might be wondering why you can't get an accuracy any higher. First things first, 50% isn't bad for a simple CNN.  Pure guessing would get you 10% accuracy. However, you might notice people are getting scores [well above 80%](http://rodrigob.github.io/are_we_there_yet/build/classification_datasets_results.html#43494641522d3130).  That's because we haven't taught you all there is to know about neural networks. We still need to cover a few more techniques.\n",
    "## Submitting This Project\n",
    "When submitting this project, make sure to run all the cells before saving the notebook.  Save the notebook file as \"dlnd_image_classification.ipynb\" and save it as a HTML file under \"File\" -> \"Download as\".  Include the \"helper.py\" and \"problem_unittests.py\" files in your submission."
   ]
  }
 ],
 "metadata": {
  "kernelspec": {
   "display_name": "Python 3",
   "language": "python",
   "name": "python3"
  },
  "language_info": {
   "codemirror_mode": {
    "name": "ipython",
    "version": 3
   },
   "file_extension": ".py",
   "mimetype": "text/x-python",
   "name": "python",
   "nbconvert_exporter": "python",
   "pygments_lexer": "ipython3",
   "version": "3.5.2"
  },
  "widgets": {
   "state": {},
   "version": "1.1.2"
  }
 },
 "nbformat": 4,
 "nbformat_minor": 1
}
